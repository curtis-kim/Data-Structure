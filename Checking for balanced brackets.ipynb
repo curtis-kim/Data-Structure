{
 "cells": [
  {
   "cell_type": "code",
   "execution_count": 31,
   "metadata": {
    "collapsed": true
   },
   "outputs": [],
   "source": [
    "class Stack :\n",
    "    ## using List\n",
    "    def __init__(self) :\n",
    "        self.myData = []\n",
    "        \n",
    "    def push(self, n) :\n",
    "        self.myData.append(n)\n",
    "    \n",
    "    def pop(self) :\n",
    "        self.myData = self.myData[:-1]\n",
    "        \n",
    "    def size(self) :\n",
    "        return len(self.myData)\n",
    "    def empty(self) :\n",
    "        if self.size() == 0 :\n",
    "            return 1\n",
    "        else : \n",
    "            return 0\n",
    "    def top(self) :\n",
    "        if self.size() == 0:\n",
    "            return -1\n",
    "        else :\n",
    "            return self.myData[-1]\n",
    "        "
   ]
  },
  {
   "cell_type": "code",
   "execution_count": 32,
   "metadata": {
    "collapsed": true
   },
   "outputs": [],
   "source": [
    "def checkParen(p) :\n",
    "    myStack = Stack()\n",
    "    \n",
    "    for i in p :\n",
    "        if i == \"(\" :\n",
    "            myStack.push(i)\n",
    "\n",
    "        else :\n",
    "            if myStack.empty() :\n",
    "                return \"No\"\n",
    "            else : \n",
    "                myStack.pop()\n",
    "\n",
    "    if myStack.empty() :\n",
    "        return \"Yes\"\n",
    "    else :\n",
    "        return \"No\"\n",
    "\n",
    "\n",
    "            "
   ]
  },
  {
   "cell_type": "code",
   "execution_count": 34,
   "metadata": {},
   "outputs": [
    {
     "name": "stdout",
     "output_type": "stream",
     "text": [
      "Yes\n"
     ]
    }
   ],
   "source": [
    "x = [\"(\", \")\", \"(\", \"(\", \"(\", \")\", \")\", \")\"]\n",
    "print checkParen(x)\n"
   ]
  },
  {
   "cell_type": "code",
   "execution_count": null,
   "metadata": {
    "collapsed": true
   },
   "outputs": [],
   "source": []
  }
 ],
 "metadata": {
  "kernelspec": {
   "display_name": "Python 2",
   "language": "python",
   "name": "python2"
  },
  "language_info": {
   "codemirror_mode": {
    "name": "ipython",
    "version": 2
   },
   "file_extension": ".py",
   "mimetype": "text/x-python",
   "name": "python",
   "nbconvert_exporter": "python",
   "pygments_lexer": "ipython2",
   "version": "2.7.14"
  }
 },
 "nbformat": 4,
 "nbformat_minor": 2
}
