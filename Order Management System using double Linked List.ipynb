{
 "cells": [
  {
   "cell_type": "code",
   "execution_count": 1,
   "metadata": {},
   "outputs": [],
   "source": [
    "class element :\n",
    "    def __init__(self, orderId) :\n",
    "        self.myNext = None\n",
    "        self.myPiror = None\n",
    "        self.myValue = orderId\n",
    "    "
   ]
  },
  {
   "cell_type": "code",
   "execution_count": 5,
   "metadata": {},
   "outputs": [],
   "source": [
    "class orderManager :\n",
    "    def __init__(self) :\n",
    "        self.data = []\n",
    "        self.start = None\n",
    "        self.end = None\n",
    "    def addOrder(self, orderId) :\n",
    "        e = element(orderId)\n",
    "        \n",
    "        if self.start == None :\n",
    "            self.start = e\n",
    "        elif self.end == None :\n",
    "            self.start.myNext = e\n",
    "            e.myPrior = self.start\n",
    "            self.end = e\n",
    "        else :\n",
    "            e.myPrior = self.end\n",
    "            self.end.myNext = e\n",
    "            self.end = e\n",
    "                  \n",
    "    def removeOrder(self, orderId) :\n",
    "        temp = self.start\n",
    "        while temp != None :\n",
    "            if temp.myValue == orderId :\n",
    "                    if temp == self.start :\n",
    "                        self.start = temp.myNext\n",
    "                        \n",
    "                    elif temp == self.end :\n",
    "                        \n",
    "                        self.end = temp.myPrior\n",
    "                        self.end.myNext = None\n",
    "                    else :\n",
    "                        temp.myPrior.myNext = temp.myNext\n",
    "                        temp.myNext.myPrior = temp.myPrior\n",
    "            \n",
    "            temp = temp.myNext\n",
    "            \n",
    "    def getOrder(self, orderId) :\n",
    "        result = -1\n",
    "        count = 0\n",
    "        temp = self.start\n",
    "        while temp != None :\n",
    "            count += 1\n",
    "            if temp.myValue == orderId :\n",
    "                result = count\n",
    "                break\n",
    "            temp = temp.myNext\n",
    "        return result\n",
    "    \n",
    "    \n",
    "    def getList(self) :\n",
    "        result = []\n",
    "        temp = self.start\n",
    "        while temp != None :\n",
    "            result.append(temp.myValue)\n",
    "            temp = temp.myNext\n",
    "        return result"
   ]
  },
  {
   "cell_type": "code",
   "execution_count": 6,
   "metadata": {},
   "outputs": [],
   "source": [
    "manager = orderManager()"
   ]
  },
  {
   "cell_type": "code",
   "execution_count": 7,
   "metadata": {},
   "outputs": [
    {
     "name": "stdout",
     "output_type": "stream",
     "text": [
      "4\n",
      "-1\n"
     ]
    }
   ],
   "source": [
    "manager.addOrder(2)\n",
    "manager.removeOrder(2)\n",
    "manager.addOrder(1818)\n",
    "manager.addOrder(8282)\n",
    "manager.addOrder(2255)\n",
    "manager.addOrder(6515)\n",
    "manager.removeOrder(1818)\n",
    "manager.addOrder(486)\n",
    "\n",
    "print(manager.getOrder(486))\n",
    "print(manager.getOrder(3)) \n",
    "\n",
    "manager.addOrder(4860)"
   ]
  },
  {
   "cell_type": "code",
   "execution_count": null,
   "metadata": {},
   "outputs": [],
   "source": []
  }
 ],
 "metadata": {
  "kernelspec": {
   "display_name": "Python 3",
   "language": "python",
   "name": "python3"
  },
  "language_info": {
   "codemirror_mode": {
    "name": "ipython",
    "version": 3
   },
   "file_extension": ".py",
   "mimetype": "text/x-python",
   "name": "python",
   "nbconvert_exporter": "python",
   "pygments_lexer": "ipython3",
   "version": "3.5.5"
  }
 },
 "nbformat": 4,
 "nbformat_minor": 2
}
