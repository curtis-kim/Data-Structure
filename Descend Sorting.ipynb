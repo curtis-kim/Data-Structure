{
 "cells": [
  {
   "cell_type": "code",
   "execution_count": 4,
   "metadata": {},
   "outputs": [
    {
     "name": "stdout",
     "output_type": "stream",
     "text": [
      "1 2\n"
     ]
    },
    {
     "ename": "SyntaxError",
     "evalue": "unexpected EOF while parsing (<string>, line 1)",
     "output_type": "error",
     "traceback": [
      "\u001b[0;36m  File \u001b[0;32m\"<string>\"\u001b[0;36m, line \u001b[0;32m1\u001b[0m\n\u001b[0;31m    1 2\u001b[0m\n\u001b[0m      ^\u001b[0m\n\u001b[0;31mSyntaxError\u001b[0m\u001b[0;31m:\u001b[0m unexpected EOF while parsing\n"
     ]
    }
   ],
   "source": [
    "class maxMachine :\n",
    "    def __init__(self) :\n",
    "        self.myData = []\n",
    "        \n",
    "    def addNumber(self, n) :\n",
    "        self.myData.append(n)\n",
    "    \n",
    "    def removeNumber(self, n) :\n",
    "        self.myData.remove(n)\n",
    "    \n",
    "    def getMax(self) :\n",
    "        return max(self.myData)\n",
    "    \n",
    "def sorting(myList) :\n",
    "    \n",
    "    myMachine = maxMachine()\n",
    "    for i in myList :\n",
    "        myMachine.addNumber(i)\n",
    "        \n",
    "    result = []\n",
    "    for x in range(len(myMachine.myData)) :\n",
    "        temp = myMachine.getMax()\n",
    "        result.append(temp)\n",
    "        myMachine.removeNumber(temp)\n",
    "        \n",
    "    return result\n",
    "\n",
    "def main() :\n",
    "    myList = [int(v) for v in input().split()]\n",
    "    \n",
    "    print(sorting(myList))\n",
    "    \n",
    "if __name__ == \"__main__\" :\n",
    "    main()"
   ]
  },
  {
   "cell_type": "code",
   "execution_count": null,
   "metadata": {
    "collapsed": true
   },
   "outputs": [],
   "source": []
  }
 ],
 "metadata": {
  "kernelspec": {
   "display_name": "Python 2",
   "language": "python",
   "name": "python2"
  },
  "language_info": {
   "codemirror_mode": {
    "name": "ipython",
    "version": 2
   },
   "file_extension": ".py",
   "mimetype": "text/x-python",
   "name": "python",
   "nbconvert_exporter": "python",
   "pygments_lexer": "ipython2",
   "version": "2.7.14"
  }
 },
 "nbformat": 4,
 "nbformat_minor": 2
}
