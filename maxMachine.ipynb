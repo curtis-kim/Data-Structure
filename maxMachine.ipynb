{
 "cells": [
  {
   "cell_type": "code",
   "execution_count": 1,
   "metadata": {},
   "outputs": [
    {
     "name": "stdout",
     "output_type": "stream",
     "text": [
      "4\n",
      "4\n",
      "2\n"
     ]
    }
   ],
   "source": [
    "class maxMachine :\n",
    "    def __init__(self) :\n",
    "        self.myData = []\n",
    "        \n",
    "    def addNumber(self, n) :\n",
    "        self.myData.append(n)\n",
    "    def removeNumber(self, n) :\n",
    "        self.myData.remove(n)\n",
    "    def getMax(self) :\n",
    "        return max(self.myData)\n",
    "    \n",
    "def main():\n",
    "    myMachine = maxMachine()\n",
    "    \n",
    "    myMachine.addNumber(1)\n",
    "    myMachine.addNumber(2)\n",
    "    myMachine.addNumber(3)\n",
    "    myMachine.addNumber(4)\n",
    "    \n",
    "    print(myMachine.getMax())\n",
    "    \n",
    "    myMachine.removeNumber(3)\n",
    "    \n",
    "    print(myMachine.getMax())\n",
    "    \n",
    "    myMachine.removeNumber(4)\n",
    "    \n",
    "    print(myMachine.getMax())\n",
    "    \n",
    "if __name__ == \"__main__\":\n",
    "    main()"
   ]
  }
 ],
 "metadata": {
  "kernelspec": {
   "display_name": "Python 2",
   "language": "python",
   "name": "python2"
  },
  "language_info": {
   "codemirror_mode": {
    "name": "ipython",
    "version": 2
   },
   "file_extension": ".py",
   "mimetype": "text/x-python",
   "name": "python",
   "nbconvert_exporter": "python",
   "pygments_lexer": "ipython2",
   "version": "2.7.14"
  }
 },
 "nbformat": 4,
 "nbformat_minor": 2
}
