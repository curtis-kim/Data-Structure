{
 "cells": [
  {
   "cell_type": "code",
   "execution_count": 3,
   "metadata": {},
   "outputs": [
    {
     "ename": "SyntaxError",
     "evalue": "invalid syntax (<ipython-input-3-6e63a1930425>, line 54)",
     "output_type": "error",
     "traceback": [
      "\u001b[0;36m  File \u001b[0;32m\"<ipython-input-3-6e63a1930425>\"\u001b[0;36m, line \u001b[0;32m54\u001b[0m\n\u001b[0;31m    print(*processBreads(myList))\u001b[0m\n\u001b[0m          ^\u001b[0m\n\u001b[0;31mSyntaxError\u001b[0m\u001b[0;31m:\u001b[0m invalid syntax\n"
     ]
    }
   ],
   "source": [
    "class LinkedListElement :\n",
    "    def __init__(self) :\n",
    "        self.value = None\n",
    "        self.myNext = None\n",
    "        \n",
    "        \n",
    "class LinkedListPipe :\n",
    "    def __init__(self) :\n",
    "        self.myPipe = []\n",
    "        self.start = None\n",
    "        self.end = None\n",
    "        \n",
    "    def addLeft(self, n) :\n",
    "        if self.start == None :\n",
    "            self.start = n\n",
    "            self.end = n\n",
    "            n.myNext = None\n",
    "        else :\n",
    "            n.myNext = self.start\n",
    "            self.start = n\n",
    "    def addRight(self, n) :\n",
    "        if self.start == None :\n",
    "                \n",
    "            self.start = n\n",
    "            self.end = n\n",
    "            n.myNext = None\n",
    "            self.end = n\n",
    "    def getBeads(self) :\n",
    "        temp = self.start\n",
    "        while temp != None :\n",
    "            self.myPipe.append(temp.value)\n",
    "            temp = temp.myNext\n",
    "        return self.myPipe\n",
    "def processBeads(myInput) :\n",
    "    myPipe = LinkedListPipe()\n",
    "    for x in range(len(myInput)) :\n",
    "        e = LinkedListElement()\n",
    "        e.value = myInput[x][0]\n",
    "        \n",
    "        if myInput[x][1] == 0 :\n",
    "            myPipe.addLeft(e)\n",
    "        else : \n",
    "            myPipe.addRight(e)\n",
    "    return myPipe.getBeads()\n",
    "\n",
    "def main() :\n",
    "    n = int(input())\n",
    "    \n",
    "    myList = []\n",
    "    \n",
    "    for i in range(n) :\n",
    "        myList.append([int(v) for v in input().split()])\n",
    "    \n",
    "    print(*processBreads(myList))\n",
    "    \n",
    "if __name__ == \"__main__\" :\n",
    "    main()"
   ]
  },
  {
   "cell_type": "code",
   "execution_count": null,
   "metadata": {
    "collapsed": true
   },
   "outputs": [],
   "source": []
  }
 ],
 "metadata": {
  "kernelspec": {
   "display_name": "Python 2",
   "language": "python",
   "name": "python2"
  },
  "language_info": {
   "codemirror_mode": {
    "name": "ipython",
    "version": 2
   },
   "file_extension": ".py",
   "mimetype": "text/x-python",
   "name": "python",
   "nbconvert_exporter": "python",
   "pygments_lexer": "ipython2",
   "version": "2.7.14"
  }
 },
 "nbformat": 4,
 "nbformat_minor": 2
}
