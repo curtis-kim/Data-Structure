{
 "cells": [
  {
   "cell_type": "code",
   "execution_count": 42,
   "metadata": {},
   "outputs": [
    {
     "name": "stdout",
     "output_type": "stream",
     "text": [
      "8\n",
      "9\n"
     ]
    }
   ],
   "source": [
    "class myDatabase:\n",
    "    '''\n",
    "    해싱을 구현합니다\n",
    "    '''\n",
    "\n",
    "    def __init__(self, size) :\n",
    "        '''\n",
    "        크기 size의 해시 테이블을 만듭니다.\n",
    "\n",
    "        이곳은 수정하지 마세요.\n",
    "        '''\n",
    "        self.myData = [(-1, -1) for i in range(size)]\n",
    "\n",
    "    def put(self, key, value) :\n",
    "        '''\n",
    "        key에 해당하는 값 value 즉, (key, value)를 저장합니다.\n",
    "        '''\n",
    "        index = self.hashFunction(key)\n",
    "        while index < len(self.myData) :\n",
    "            if self.myData[index] == (-1, -1) :    \n",
    "                self.myData[index] = (key, value)\n",
    "                return\n",
    "            else :\n",
    "                index += 1\n",
    "                index = self.hashFunction(index)\n",
    "\n",
    "    def get(self, key) :\n",
    "        '''\n",
    "        key에 해당하는 value를 반환합니다. 만약 key에 해당하는 value가 없다면 -1을 반환합니다.\n",
    "        '''\n",
    "        index = self.hashFunction(key)\n",
    "        while index < len(self.myData) :\n",
    "            if self.myData[index][0] == key :\n",
    "                return self.myData[index][1]\n",
    "            else :\n",
    "                index += 1\n",
    "                index = self.hashFunction(index)\n",
    "        return -1\n",
    "            \n",
    "\n",
    "    def hashFunction(self, key) :\n",
    "        '''\n",
    "        key에 해당하는 hash 값을 반환합니다.\n",
    "        '''\n",
    "        return key % len(self.myData)\n",
    "\n",
    "def main():\n",
    "    db = myDatabase(4)\n",
    "\n",
    "    '''\n",
    "    테스트를 하고싶으면, 아래 부분을 수정합니다.\n",
    "    '''\n",
    "\n",
    "    db.put(1, 3)\n",
    "    db.put(2, 7)\n",
    "    db.put(3, 8)\n",
    "    db.put(403, 9)\n",
    "\n",
    "    print(db.get(3))\n",
    "    print(db.get(403))\n",
    "\n",
    "\n",
    "if __name__ == \"__main__\":\n",
    "    main()\n"
   ]
  },
  {
   "cell_type": "code",
   "execution_count": null,
   "metadata": {
    "collapsed": true
   },
   "outputs": [],
   "source": []
  }
 ],
 "metadata": {
  "kernelspec": {
   "display_name": "Python 2",
   "language": "python",
   "name": "python2"
  },
  "language_info": {
   "codemirror_mode": {
    "name": "ipython",
    "version": 2
   },
   "file_extension": ".py",
   "mimetype": "text/x-python",
   "name": "python",
   "nbconvert_exporter": "python",
   "pygments_lexer": "ipython2",
   "version": "2.7.14"
  }
 },
 "nbformat": 4,
 "nbformat_minor": 2
}
