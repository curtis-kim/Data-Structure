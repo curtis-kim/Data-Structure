{
 "cells": [
  {
   "cell_type": "code",
   "execution_count": 5,
   "metadata": {},
   "outputs": [
    {
     "name": "stdout",
     "output_type": "stream",
     "text": [
      "4\n",
      "-1\n"
     ]
    }
   ],
   "source": [
    "class orderManger :\n",
    "    def __init__(self) :\n",
    "        self.data = []\n",
    "    def addOrder(self, orderId) :\n",
    "        self.data.append(orderId)\n",
    "    def removeOrder(self, orderId) :\n",
    "        self.data.remove(orderId)\n",
    "    def getOrder(self, orderId) :\n",
    "        if orderId in self.data :\n",
    "            return self.data.index(orderId) + 1\n",
    "        else :\n",
    "            return -1\n",
    "\n",
    "def main() :\n",
    "    manager = orderManger()\n",
    "    manager.addOrder(2)\n",
    "    manager.removeOrder(2)\n",
    "    manager.addOrder(1818)\n",
    "    manager.addOrder(8282)\n",
    "    manager.addOrder(2255)\n",
    "    manager.addOrder(6515)\n",
    "    manager.removeOrder(1818)\n",
    "    manager.addOrder(486)\n",
    "    \n",
    "    print(manager.getOrder(486))\n",
    "    print(manager.getOrder(3))\n",
    "    \n",
    "    manager.addOrder(4860)\n",
    "if __name__ == \"__main__\" :\n",
    "    main()"
   ]
  },
  {
   "cell_type": "code",
   "execution_count": null,
   "metadata": {
    "collapsed": true
   },
   "outputs": [],
   "source": []
  }
 ],
 "metadata": {
  "kernelspec": {
   "display_name": "Python 2",
   "language": "python",
   "name": "python2"
  },
  "language_info": {
   "codemirror_mode": {
    "name": "ipython",
    "version": 2
   },
   "file_extension": ".py",
   "mimetype": "text/x-python",
   "name": "python",
   "nbconvert_exporter": "python",
   "pygments_lexer": "ipython2",
   "version": "2.7.14"
  }
 },
 "nbformat": 4,
 "nbformat_minor": 2
}
